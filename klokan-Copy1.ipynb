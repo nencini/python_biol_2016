{
 "cells": [
  {
   "cell_type": "markdown",
   "metadata": {},
   "source": [
    " \n",
    "<img src=\"http://www.australianwildlife.org/media/66803/tammar-wallaby.jpg\" alt=\"Drawing\" style=\"width: 500px;\"/>\n",
    "\n",
    "# Macropus eugenii - Klokan dama \n",
    "## Ricky Nencini\n",
    "\n",
    "### Vědecká klasifikace\n",
    "\n",
    "<pre>\n",
    "\n",
    "|..      |..          |\n",
    "|--------|------------|\n",
    "|Říše    |Živočichové |\n",
    "|Kmen    |Strunatci   |\n",
    "|Podkmen |Obratlovci  |\n",
    "|Třída   |Savci       |\n",
    "|Podtřída|Vačnatci    |\n",
    "|Řád     |Dvojitozubci|\n",
    "|Čeleď   |Klokanovití |\n",
    "|Rod     |Klokan      |\n",
    "\n",
    "</pre>\n",
    "<center>\n",
    "zdroj: http://www.ensembl.org/Macropus_eugenii/Info/Annotation\n",
    "</center>\n",
    "\n",
    "\n",
    "\n"
   ]
  },
  {
   "cell_type": "markdown",
   "metadata": {},
   "source": [
    "Jedná se o nejmenšího vačnatce z rodu klokanů. Dosahuje 52-68 cm a váží 7 až 9 kg. Jedná se o býložravce, který se dožívá až 10ti let. Fotka s člověkem pro představu jak je tento klokan malý.\n",
    "![klokan](http://www.zooborns.com/.a/6a010535647bf3970b014e8a526242970d-500wi)"
   ]
  },
  {
   "cell_type": "markdown",
   "metadata": {},
   "source": [
    "Klokan duma se vyskytuje především v jižní a západní Austrálii\n",
    "![Vyskyt](https://upload.wikimedia.org/wikipedia/commons/c/c8/Tammar_Wallaby_area.png)\n",
    "Dříve byl rozšířen hojně v jižní a jihozápadní Austrálii a na mnohých ostrovech, také na Novém Zélandu, ale na spostě míst téměř vyhynul či vyhynul."
   ]
  },
  {
   "cell_type": "markdown",
   "metadata": {},
   "source": [
    "Pro Australany byli kolani obecně zdrojem obživy. V 60. až 80. letech minulého století se klokaní maso ve velkém vyváželo a vyráběly se z něj především konzervy pro psy. Dnes se rozšířila obliba klokaního masa mezi lidmi."
   ]
  },
  {
   "cell_type": "markdown",
   "metadata": {},
   "source": [
    "Dokonce byl tak oblíbený, že internetový obchod https://www.skullsunlimited.com nabízel kostru klokana dumy, bohužel již není v obchodě dostupná\n",
    "![Kostra](https://www.skullsunlimited.com/userfiles/image/variants_large_6580.jpg)"
   ]
  },
  {
   "cell_type": "markdown",
   "metadata": {},
   "source": [
    "### Informace o genomu ze stránek autora genomu\n",
    "<p>\n",
    "<left><table align=\"left\">\n",
    "<tr>\n",
    "<td><b>Párů bazí</b></td><td>2,549,429,531</td>\n",
    "</tr>\n",
    "<tr>\n",
    "<td><b>Vyřešení genomu</b></td><td>červen 2009</td>\n",
    "</tr>\n",
    "<tr>\n",
    "<td><b>Kódujících genů</b></td><td>\t15,290</td>\n",
    "</tr>\n",
    "<tr>\n",
    "<td><b>Nekódujících genů </b></td><td>\t1,472</td>\n",
    "</tr>\n",
    "<tr>\n",
    "<td><b>Small non coding genes\t</b></td><td>1,430</td>\n",
    "</tr>\n",
    "<tr>\n",
    "<td><b>Misc non coding genes</b></td><td>\t42</td>\n",
    "</tr>\n",
    "<tr>\n",
    "<td><b>Pseudogenů</b></td><td>\t1,496</td>\n",
    "</tr>\n",
    "<tr>\n",
    "<td><b>Gene transcripts</b></td><td>\t18,310</td>\n",
    "</tr>\n",
    "</table>\n",
    "</left>\n",
    "</p>\n",
    "\n",
    "<center>\n",
    "zdroj: http://www.ensembl.org/Macropus_eugenii/Info/Annotation\n",
    "</center>\n"
   ]
  },
  {
   "cell_type": "markdown",
   "metadata": {},
   "source": [
    "## Analýza genomu\n",
    "\n",
    "Prvně jsem si rozdělil data na dva menší soubory, které jsem později použil."
   ]
  },
  {
   "cell_type": "code",
   "execution_count": 10,
   "metadata": {
    "collapsed": true
   },
   "outputs": [],
   "source": [
    "!cat Macropus.gtf | grep -E \"\\s+gene\\s+\" > klokan_gen.gtf\n",
    "!cat Macropus.gtf | grep -E \"\\s+transcript\\s+\" > klokan_transkript.gtf\n",
    "!cat Macropus.gtf | grep -E \"\\s+exon\\s+\" > klokan_exon.gtf"
   ]
  },
  {
   "cell_type": "markdown",
   "metadata": {},
   "source": [
    "Naimportoval jsem si důležité knihovny."
   ]
  },
  {
   "cell_type": "code",
   "execution_count": 3,
   "metadata": {
    "collapsed": true
   },
   "outputs": [],
   "source": [
    "import pandas as pd\n",
    "import numpy as np\n",
    "import matplotlib as plt\n",
    "import pylab as pl\n",
    "import re\n",
    "%matplotlib inline"
   ]
  },
  {
   "cell_type": "markdown",
   "metadata": {},
   "source": [
    "Vytvořil jsem si 3 hlavní tabulky, se kterými jsem dále pracoval."
   ]
  },
  {
   "cell_type": "code",
   "execution_count": 43,
   "metadata": {
    "collapsed": false
   },
   "outputs": [],
   "source": [
    "genes=pd.read_table('klokan_gen.gtf', header=None, dtype={0:np.object})\n",
    "klokan=pd.read_table('klokan.gtf', header=None, dtype={0:np.object})\n",
    "exons=pd.read_table('klokan_exon.gtf', header=None, dtype={0:np.object})"
   ]
  },
  {
   "cell_type": "markdown",
   "metadata": {},
   "source": [
    "Pojmenoval jsem jednotlivé sloupce."
   ]
  },
  {
   "cell_type": "code",
   "execution_count": 44,
   "metadata": {
    "collapsed": false
   },
   "outputs": [],
   "source": [
    "klokan.columns = [\"Chromozom\", \"Zdroj\", \"Druh\", \"Start\", \"Konec\", \"Score\", \"Retezec\", \"Frame\", \"Vlastnosti\"]\n",
    "genes.columns = [\"Chromozom\", \"Zdroj\", \"Druh\", \"Start\", \"Konec\", \"Score\", \"Retezec\", \"Frame\", \"Vlastnosti\"]\n",
    "exons.columns = [\"Chromozom\", \"Zdroj\", \"Druh\", \"Start\", \"Konec\", \"Score\", \"Retezec\", \"Frame\", \"Vlastnosti\"]"
   ]
  },
  {
   "cell_type": "markdown",
   "metadata": {},
   "source": [
    "Takto poté vypadaly výsledné tabulky, které se lišily jaké druhy jsou ve třetím sloupci."
   ]
  },
  {
   "cell_type": "code",
   "execution_count": 27,
   "metadata": {
    "collapsed": false
   },
   "outputs": [
    {
     "data": {
      "text/html": [
       "<div>\n",
       "<table border=\"1\" class=\"dataframe\">\n",
       "  <thead>\n",
       "    <tr style=\"text-align: right;\">\n",
       "      <th></th>\n",
       "      <th>Chromozom</th>\n",
       "      <th>Zdroj</th>\n",
       "      <th>Druh</th>\n",
       "      <th>Start</th>\n",
       "      <th>Konec</th>\n",
       "      <th>Score</th>\n",
       "      <th>Retezec</th>\n",
       "      <th>Frame</th>\n",
       "      <th>Vlastnosti</th>\n",
       "    </tr>\n",
       "  </thead>\n",
       "  <tbody>\n",
       "    <tr>\n",
       "      <th>482733</th>\n",
       "      <td>Scaffold615051</td>\n",
       "      <td>ensembl</td>\n",
       "      <td>transcript</td>\n",
       "      <td>161</td>\n",
       "      <td>253</td>\n",
       "      <td>.</td>\n",
       "      <td>-</td>\n",
       "      <td>.</td>\n",
       "      <td>gene_id \"ENSMEUG00000017635\"; gene_version \"1\"...</td>\n",
       "    </tr>\n",
       "    <tr>\n",
       "      <th>482734</th>\n",
       "      <td>Scaffold615051</td>\n",
       "      <td>ensembl</td>\n",
       "      <td>exon</td>\n",
       "      <td>161</td>\n",
       "      <td>253</td>\n",
       "      <td>.</td>\n",
       "      <td>-</td>\n",
       "      <td>.</td>\n",
       "      <td>gene_id \"ENSMEUG00000017635\"; gene_version \"1\"...</td>\n",
       "    </tr>\n",
       "    <tr>\n",
       "      <th>482735</th>\n",
       "      <td>Scaffold615314</td>\n",
       "      <td>ensembl</td>\n",
       "      <td>gene</td>\n",
       "      <td>138</td>\n",
       "      <td>230</td>\n",
       "      <td>.</td>\n",
       "      <td>-</td>\n",
       "      <td>.</td>\n",
       "      <td>gene_id \"ENSMEUG00000017382\"; gene_version \"1\"...</td>\n",
       "    </tr>\n",
       "    <tr>\n",
       "      <th>482736</th>\n",
       "      <td>Scaffold615314</td>\n",
       "      <td>ensembl</td>\n",
       "      <td>transcript</td>\n",
       "      <td>138</td>\n",
       "      <td>230</td>\n",
       "      <td>.</td>\n",
       "      <td>-</td>\n",
       "      <td>.</td>\n",
       "      <td>gene_id \"ENSMEUG00000017382\"; gene_version \"1\"...</td>\n",
       "    </tr>\n",
       "    <tr>\n",
       "      <th>482737</th>\n",
       "      <td>Scaffold615314</td>\n",
       "      <td>ensembl</td>\n",
       "      <td>exon</td>\n",
       "      <td>138</td>\n",
       "      <td>230</td>\n",
       "      <td>.</td>\n",
       "      <td>-</td>\n",
       "      <td>.</td>\n",
       "      <td>gene_id \"ENSMEUG00000017382\"; gene_version \"1\"...</td>\n",
       "    </tr>\n",
       "  </tbody>\n",
       "</table>\n",
       "</div>"
      ],
      "text/plain": [
       "             Chromozom    Zdroj        Druh  Start  Konec Score Retezec Frame  \\\n",
       "482733  Scaffold615051  ensembl  transcript    161    253     .       -     .   \n",
       "482734  Scaffold615051  ensembl        exon    161    253     .       -     .   \n",
       "482735  Scaffold615314  ensembl        gene    138    230     .       -     .   \n",
       "482736  Scaffold615314  ensembl  transcript    138    230     .       -     .   \n",
       "482737  Scaffold615314  ensembl        exon    138    230     .       -     .   \n",
       "\n",
       "                                               Vlastnosti  \n",
       "482733  gene_id \"ENSMEUG00000017635\"; gene_version \"1\"...  \n",
       "482734  gene_id \"ENSMEUG00000017635\"; gene_version \"1\"...  \n",
       "482735  gene_id \"ENSMEUG00000017382\"; gene_version \"1\"...  \n",
       "482736  gene_id \"ENSMEUG00000017382\"; gene_version \"1\"...  \n",
       "482737  gene_id \"ENSMEUG00000017382\"; gene_version \"1\"...  "
      ]
     },
     "execution_count": 27,
     "metadata": {},
     "output_type": "execute_result"
    }
   ],
   "source": [
    "klokan.head()"
   ]
  },
  {
   "cell_type": "markdown",
   "metadata": {},
   "source": [
    "Pro informaci jsem zjistil, jaké všechny druhy se ve třetím sloupci nacházejí, abych neopomenul nějakou důležitou informaci."
   ]
  },
  {
   "cell_type": "code",
   "execution_count": 20,
   "metadata": {
    "collapsed": false
   },
   "outputs": [
    {
     "data": {
      "text/plain": [
       "array(['gene', 'transcript', 'exon', 'CDS', 'start_codon', 'stop_codon',\n",
       "       'Selenocysteine'], dtype=object)"
      ]
     },
     "execution_count": 20,
     "metadata": {},
     "output_type": "execute_result"
    }
   ],
   "source": [
    "klokan[\"feature\"].unique()"
   ]
  },
  {
   "cell_type": "markdown",
   "metadata": {},
   "source": [
    "## Počet chromozomů\n",
    "\n",
    "Na stránkách http://www.ensembl.org, tedy na stránkách, ze kterých pochází data o genomu jsem si zjistil informace o .gtf formátu. Zde jsem zjistil, že první sloupec dat obsahuje název chromozomu či \"scaffoldu\". Dodatečná informace byla, že chromozomy mohou a nemusí být označeny <i>chr</i>.\n",
    "\n",
    "Zkusil jsem tedy nejdřiv spočítat kolik existuje různých názvů které jsou v prvním sloupci a poté jsem zkusil, zda-li se v některém řádku v prvním sloupci nevyskytuje <i>chr</i>."
   ]
  },
  {
   "cell_type": "code",
   "execution_count": 5,
   "metadata": {
    "collapsed": false
   },
   "outputs": [
    {
     "name": "stdout",
     "output_type": "stream",
     "text": [
      "15012\r\n"
     ]
    }
   ],
   "source": [
    "!cut -f1  klokan.gtf | uniq -c  | wc -l"
   ]
  },
  {
   "cell_type": "markdown",
   "metadata": {},
   "source": [
    "Usoudil jsem, že klokan nebude mít 15 012 chromozomů."
   ]
  },
  {
   "cell_type": "code",
   "execution_count": 11,
   "metadata": {
    "collapsed": false
   },
   "outputs": [],
   "source": [
    "!cut -f1  klokan.gtf | grep -E \"Chr|chr|CHR\"  | head\n"
   ]
  },
  {
   "cell_type": "markdown",
   "metadata": {},
   "source": [
    "Nebyl nalezen jediný záznam, který by v sobě obsahoval <i>chr</i>. Zkusil jsem tedy prohledat ještě devátý sloupec, který obsahuje <i>atributy</i>.  Data vypadala následovně a </i>CHR</i> se nacházelo vždy jako název genu."
   ]
  },
  {
   "cell_type": "code",
   "execution_count": 27,
   "metadata": {
    "collapsed": false
   },
   "outputs": [
    {
     "name": "stdout",
     "output_type": "stream",
     "text": [
      "gene_id ENSMEUG00000003725 gene_version 1 gene_name CHRNB2 gene_source ensembl gene_biotype protein_coding\r\n",
      "gene_id ENSMEUG00000004558 gene_version 1 gene_name CHRNA2 gene_source ensembl gene_biotype protein_coding\r\n",
      "gene_id ENSMEUG00000010087 gene_version 1 gene_name CHRDL2 gene_source ensembl gene_biotype protein_coding\r\n",
      "gene_id ENSMEUG00000003546 gene_version 1 gene_name CHRM1 gene_source ensembl gene_biotype protein_coding\r\n",
      "gene_id ENSMEUG00000011355 gene_version 1 gene_name CHRNB3 gene_source ensembl gene_biotype protein_coding\r\n",
      "gene_id ENSMEUG00000011969 gene_version 1 gene_name MCHR2 gene_source ensembl gene_biotype protein_coding\r\n",
      "gene_id ENSMEUG00000003627 gene_version 1 gene_name CHRNA1 gene_source ensembl gene_biotype protein_coding\r\n",
      "gene_id ENSMEUG00000012185 gene_version 1 gene_name CHRNE gene_source ensembl gene_biotype protein_coding\r\n",
      "gene_id ENSMEUG00000011281 gene_version 1 gene_name CHRNA6 gene_source ensembl gene_biotype protein_coding\r\n",
      "gene_id ENSMEUG00000014156 gene_version 1 gene_name CHRD gene_source ensembl gene_biotype protein_coding\r\n",
      "gene_id ENSMEUG00000006728 gene_version 1 gene_name CHRNA4 gene_source ensembl gene_biotype protein_coding\r\n",
      "gene_id ENSMEUG00000011484 gene_version 1 gene_name CHRND gene_source ensembl gene_biotype protein_coding\r\n",
      "gene_id ENSMEUG00000011510 gene_version 1 gene_name CHRNG gene_source ensembl gene_biotype protein_coding\r\n",
      "gene_id ENSMEUG00000001043 gene_version 1 gene_name CHRNB4 gene_source ensembl gene_biotype protein_coding\r\n",
      "gene_id ENSMEUG00000008863 gene_version 1 gene_name CHRAC1 gene_source ensembl gene_biotype protein_coding\r\n",
      "gene_id ENSMEUG00000010338 gene_version 1 gene_name CHRNA3 gene_source ensembl gene_biotype protein_coding\r\n",
      "gene_id ENSMEUG00000005197 gene_version 1 gene_name CHRM2 gene_source ensembl gene_biotype protein_coding\r\n",
      "gene_id ENSMEUG00000009564 gene_version 1 gene_name CHRNA10 gene_source ensembl gene_biotype protein_coding\r\n",
      "gene_id ENSMEUG00000008924 gene_version 1 gene_name CHRNB1 gene_source ensembl gene_biotype protein_coding\r\n",
      "gene_id ENSMEUG00000010143 gene_version 1 gene_name CHRNA9 gene_source ensembl gene_biotype protein_coding\r\n"
     ]
    }
   ],
   "source": [
    "!awk -F \"\\t\" '$3 == \"gene\" { print $9 }' klokan.gtf  | grep  -E \"Chr|chr|CHR\" | tr -d \";\\\"\" "
   ]
  },
  {
   "cell_type": "code",
   "execution_count": 28,
   "metadata": {
    "collapsed": false
   },
   "outputs": [
    {
     "name": "stdout",
     "output_type": "stream",
     "text": [
      "20\r\n"
     ]
    }
   ],
   "source": [
    "!awk -F \"\\t\" '$3 == \"gene\" { print $9 }' klokan.gtf  | grep  -E \"Chr|chr|CHR\" | tr -d \";\\\"\" | wc -l"
   ]
  },
  {
   "cell_type": "markdown",
   "metadata": {},
   "source": [
    "Takovýchto výsledků bylo 20. V tento okamžik musím přiznat, že nejsem biolog a nevím, zda-li název genu může obsahovat <i>chr</i> aniž by to nikterak korelovalo s chromozomem. Ale vzhledem k povaze dat a jednotlivým názvům genů, které v sobě obsahují <i>chr</i> soudím, že to jsou geny, které ve svém názvu obsahují <i>chr</i>, nicméně to nijak nesouvisí s chromozomy. Vzhledem k tomu, že ani v přehledu dat k genomu od jeho autora nebyla žádná informace o počtu chromozomů, tak soudím, že tato informace v datech není obsažena."
   ]
  },
  {
   "cell_type": "markdown",
   "metadata": {},
   "source": [
    "## Počet genů a transkriptů\n",
    "- jednoduchou analýzou pomocí awk jsem zjistil, kolik je v souboru genů a kolik transkriptů. Genů je 18 258 a transkriptů 18 310. Takže jsem předpokládal, že pro některé geny musí být více transkriptů"
   ]
  },
  {
   "cell_type": "code",
   "execution_count": 101,
   "metadata": {
    "collapsed": false
   },
   "outputs": [
    {
     "name": "stdout",
     "output_type": "stream",
     "text": [
      "18258\n",
      "18310\n"
     ]
    }
   ],
   "source": [
    "!awk -F \"\\t\" '$3 == \"gene\" { print $0 }' klokan.gtf   | wc -l\n",
    "!awk -F \"\\t\" '$3 == \"transcript\" { print $0 }' klokan.gtf   | wc -l"
   ]
  },
  {
   "cell_type": "markdown",
   "metadata": {},
   "source": [
    "Vygeneroval jsem si tedy tabulku se všemy transkripty a spočítal si zda-li nemají některé 2 transkripty stejné ID genu a jak je vidět v grafu, tak nemají."
   ]
  },
  {
   "cell_type": "code",
   "execution_count": 7,
   "metadata": {
    "collapsed": false
   },
   "outputs": [],
   "source": [
    "!awk -F \"\\t\" '$3 == \"transcript\" { print $9 }' klokan.gtf | tr -d \";\\\"\" | awk -F \" \" '$1 == \"gene_id\" {gene_counter[$2] += 1} END {    for (gene_name in gene_counter){ print gene_name, gene_counter[gene_name]}}' >> transkripts_by_genes.txt"
   ]
  },
  {
   "cell_type": "code",
   "execution_count": 11,
   "metadata": {
    "collapsed": false,
    "scrolled": true
   },
   "outputs": [
    {
     "data": {
      "text/html": [
       "<div>\n",
       "<table border=\"1\" class=\"dataframe\">\n",
       "  <thead>\n",
       "    <tr style=\"text-align: right;\">\n",
       "      <th></th>\n",
       "      <th>Gen</th>\n",
       "      <th>Pocet transkriptu</th>\n",
       "    </tr>\n",
       "  </thead>\n",
       "  <tbody>\n",
       "    <tr>\n",
       "      <th>0</th>\n",
       "      <td>ENSMEUG00000009132</td>\n",
       "      <td>1</td>\n",
       "    </tr>\n",
       "    <tr>\n",
       "      <th>1</th>\n",
       "      <td>ENSMEUG00000010553</td>\n",
       "      <td>1</td>\n",
       "    </tr>\n",
       "    <tr>\n",
       "      <th>2</th>\n",
       "      <td>ENSMEUG00000010554</td>\n",
       "      <td>1</td>\n",
       "    </tr>\n",
       "    <tr>\n",
       "      <th>3</th>\n",
       "      <td>ENSMEUG00000009133</td>\n",
       "      <td>1</td>\n",
       "    </tr>\n",
       "    <tr>\n",
       "      <th>4</th>\n",
       "      <td>ENSMEUG00000014430</td>\n",
       "      <td>1</td>\n",
       "    </tr>\n",
       "  </tbody>\n",
       "</table>\n",
       "</div>"
      ],
      "text/plain": [
       "                  Gen  Pocet transkriptu\n",
       "0  ENSMEUG00000009132                  1\n",
       "1  ENSMEUG00000010553                  1\n",
       "2  ENSMEUG00000010554                  1\n",
       "3  ENSMEUG00000009133                  1\n",
       "4  ENSMEUG00000014430                  1"
      ]
     },
     "execution_count": 11,
     "metadata": {},
     "output_type": "execute_result"
    }
   ],
   "source": [
    "transkripti=pd.read_table('transkripts_by_genes.txt', header=None, sep=\" \")\n",
    "transkripti.columns = [\"Gen\", \"Pocet transkriptu\" ]\n",
    "transkripti.head()"
   ]
  },
  {
   "cell_type": "code",
   "execution_count": 15,
   "metadata": {
    "collapsed": false
   },
   "outputs": [
    {
     "data": {
      "text/plain": [
       "<matplotlib.text.Text at 0x7fed7ef26f98>"
      ]
     },
     "execution_count": 15,
     "metadata": {},
     "output_type": "execute_result"
    },
    {
     "data": {
      "image/png": "[encoded data removed]",
      "text/plain": [
       "<matplotlib.figure.Figure at 0x7fed7ef265c0>"
      ]
     },
     "metadata": {},
     "output_type": "display_data"
    }
   ],
   "source": [
    "transkripti[\"Pocet transkriptu\"].hist(bins=30)\n",
    "pl.suptitle(\"Pocet transkriptu pro gen\")"
   ]
  },
  {
   "cell_type": "code",
   "execution_count": 29,
   "metadata": {
    "collapsed": false
   },
   "outputs": [
    {
     "name": "stdout",
     "output_type": "stream",
     "text": [
      "18310\r\n"
     ]
    }
   ],
   "source": [
    "!awk -F \"\\t\" '$3 == \"transcript\" { print $9 }' klokan.gtf | tr -d \";\\\"\" | awk -F \" \" '$1 == \"gene_id\" { print $0}' | wc -l"
   ]
  },
  {
   "cell_type": "markdown",
   "metadata": {},
   "source": [
    "- Zjistil jsem, že pro každý transkript existuje unikátní ID genu. Respektive přesněji, že žádné dva transkripty nemají stejné ID genu. Zajímalo mne tedy, kolik je celkem různých ID genu. To jsem zjistil následovně (jelikož jsem již věděl, že žádné dva řádky nejsou identické). Dospěl jsem k závěru, že v genomu existuje 18 310 identických ID genu, což přesně odpovídá počtu transkriptů\n",
    "\n",
    "- Dále mne tedy zajímalo, jak bude situace vypadat, provedu.li stejnou analýzu, ale namísto s ID genu s názvem genů"
   ]
  },
  {
   "cell_type": "code",
   "execution_count": 16,
   "metadata": {
    "collapsed": true
   },
   "outputs": [],
   "source": [
    "!awk -F \"\\t\" '$3 == \"transcript\" { print $9 }' klokan.gtf | tr -d \";\\\"\" | awk -F \" \" '$9 == \"gene_name\" {gene_counter[$10] += 1} END {    for (gene_name in gene_counter){ print gene_name, gene_counter[gene_name]}}' >> transkripts_by_gene.txt"
   ]
  },
  {
   "cell_type": "code",
   "execution_count": 4,
   "metadata": {
    "collapsed": false
   },
   "outputs": [
    {
     "data": {
      "text/html": [
       "<div>\n",
       "<table border=\"1\" class=\"dataframe\">\n",
       "  <thead>\n",
       "    <tr style=\"text-align: right;\">\n",
       "      <th></th>\n",
       "      <th>Gen</th>\n",
       "      <th>Pocet transkriptu</th>\n",
       "    </tr>\n",
       "  </thead>\n",
       "  <tbody>\n",
       "    <tr>\n",
       "      <th>0</th>\n",
       "      <td>CAPN6</td>\n",
       "      <td>1</td>\n",
       "    </tr>\n",
       "    <tr>\n",
       "      <th>1</th>\n",
       "      <td>CAPN7</td>\n",
       "      <td>1</td>\n",
       "    </tr>\n",
       "    <tr>\n",
       "      <th>2</th>\n",
       "      <td>DACH1</td>\n",
       "      <td>1</td>\n",
       "    </tr>\n",
       "    <tr>\n",
       "      <th>3</th>\n",
       "      <td>LARS</td>\n",
       "      <td>1</td>\n",
       "    </tr>\n",
       "    <tr>\n",
       "      <th>4</th>\n",
       "      <td>CAPN8</td>\n",
       "      <td>1</td>\n",
       "    </tr>\n",
       "  </tbody>\n",
       "</table>\n",
       "</div>"
      ],
      "text/plain": [
       "     Gen  Pocet transkriptu\n",
       "0  CAPN6                  1\n",
       "1  CAPN7                  1\n",
       "2  DACH1                  1\n",
       "3   LARS                  1\n",
       "4  CAPN8                  1"
      ]
     },
     "execution_count": 4,
     "metadata": {},
     "output_type": "execute_result"
    }
   ],
   "source": [
    "transkriptove=pd.read_table('transkripts_by_gene.txt', header=None, sep=\" \")\n",
    "transkriptove.columns = [\"Gen\", \"Pocet transkriptu\" ]\n",
    "transkriptove.head()"
   ]
  },
  {
   "cell_type": "code",
   "execution_count": 16,
   "metadata": {
    "collapsed": false,
    "scrolled": true
   },
   "outputs": [
    {
     "data": {
      "text/plain": [
       "<matplotlib.text.Text at 0x7f184c5b0f98>"
      ]
     },
     "execution_count": 16,
     "metadata": {},
     "output_type": "execute_result"
    },
    {
     "data": {
      "image/png": "[encoded data removed]",
      "text/plain": [
       "<matplotlib.figure.Figure at 0x7f184bd7a780>"
      ]
     },
     "metadata": {},
     "output_type": "display_data"
    }
   ],
   "source": [
    "transkriptove[\"Pocet transkriptu\"].hist(bins=3000, width = 2)\n",
    "pl.suptitle(\"Pocet transkriptu pro gen\")"
   ]
  },
  {
   "cell_type": "markdown",
   "metadata": {},
   "source": [
    "Opět jsem zpočítal, kolik mám jednotlivých unikátních názvů genů"
   ]
  },
  {
   "cell_type": "code",
   "execution_count": 15,
   "metadata": {
    "collapsed": false
   },
   "outputs": [
    {
     "name": "stdout",
     "output_type": "stream",
     "text": [
      "12972\r\n"
     ]
    }
   ],
   "source": [
    "!awk -F \"\\t\" '$3 == \"transcript\" { print $9 }' klokan.gtf | tr -d \";\\\"\" | awk -F \" \" '$9 == \"gene_name\" { print $0}' | wc -l"
   ]
  },
  {
   "cell_type": "markdown",
   "metadata": {},
   "source": [
    "A zjistil jsem, že jich je tentokrát podstatně méňe, než kolik je transkriptů. Z histogramu by se zdálo, že opět všeny transkripty přísluší jednomu genu. Nicméně mi přišlo divné, že je tentokrát měřítko na ose x až do 400. Nechal jsem si tedy spočítat, kolik přísluší jednotlivým názvům genů transkriptů a zobrazil si to v tabulce."
   ]
  },
  {
   "cell_type": "code",
   "execution_count": 14,
   "metadata": {
    "collapsed": false
   },
   "outputs": [],
   "source": [
    "!awk -F \" \" ' {gene_counter[$2] += 1} END {    for (gene_name in gene_counter){ print gene_name, gene_counter[gene_name]}}' transkripts_by_gene.txt >> name_gene.txt"
   ]
  },
  {
   "cell_type": "code",
   "execution_count": 19,
   "metadata": {
    "collapsed": false
   },
   "outputs": [
    {
     "data": {
      "text/html": [
       "<div>\n",
       "<table border=\"1\" class=\"dataframe\">\n",
       "  <thead>\n",
       "    <tr style=\"text-align: right;\">\n",
       "      <th></th>\n",
       "      <th>Pocet transkriptru pro gen</th>\n",
       "      <th>Cetnost</th>\n",
       "    </tr>\n",
       "  </thead>\n",
       "  <tbody>\n",
       "    <tr>\n",
       "      <th>0</th>\n",
       "      <td>1</td>\n",
       "      <td>12065</td>\n",
       "    </tr>\n",
       "    <tr>\n",
       "      <th>1</th>\n",
       "      <td>2</td>\n",
       "      <td>76</td>\n",
       "    </tr>\n",
       "    <tr>\n",
       "      <th>2</th>\n",
       "      <td>3</td>\n",
       "      <td>14</td>\n",
       "    </tr>\n",
       "    <tr>\n",
       "      <th>3</th>\n",
       "      <td>4</td>\n",
       "      <td>6</td>\n",
       "    </tr>\n",
       "    <tr>\n",
       "      <th>4</th>\n",
       "      <td>5</td>\n",
       "      <td>1</td>\n",
       "    </tr>\n",
       "    <tr>\n",
       "      <th>5</th>\n",
       "      <td>7</td>\n",
       "      <td>2</td>\n",
       "    </tr>\n",
       "    <tr>\n",
       "      <th>6</th>\n",
       "      <td>8</td>\n",
       "      <td>1</td>\n",
       "    </tr>\n",
       "    <tr>\n",
       "      <th>7</th>\n",
       "      <td>9</td>\n",
       "      <td>1</td>\n",
       "    </tr>\n",
       "    <tr>\n",
       "      <th>8</th>\n",
       "      <td>26</td>\n",
       "      <td>1</td>\n",
       "    </tr>\n",
       "    <tr>\n",
       "      <th>9</th>\n",
       "      <td>32</td>\n",
       "      <td>1</td>\n",
       "    </tr>\n",
       "    <tr>\n",
       "      <th>10</th>\n",
       "      <td>58</td>\n",
       "      <td>1</td>\n",
       "    </tr>\n",
       "    <tr>\n",
       "      <th>11</th>\n",
       "      <td>142</td>\n",
       "      <td>1</td>\n",
       "    </tr>\n",
       "    <tr>\n",
       "      <th>12</th>\n",
       "      <td>395</td>\n",
       "      <td>1</td>\n",
       "    </tr>\n",
       "  </tbody>\n",
       "</table>\n",
       "</div>"
      ],
      "text/plain": [
       "    Pocet transkriptru pro gen  Cetnost\n",
       "0                            1    12065\n",
       "1                            2       76\n",
       "2                            3       14\n",
       "3                            4        6\n",
       "4                            5        1\n",
       "5                            7        2\n",
       "6                            8        1\n",
       "7                            9        1\n",
       "8                           26        1\n",
       "9                           32        1\n",
       "10                          58        1\n",
       "11                         142        1\n",
       "12                         395        1"
      ]
     },
     "execution_count": 19,
     "metadata": {},
     "output_type": "execute_result"
    }
   ],
   "source": [
    "tran=pd.read_table('name_gene.txt', header=None, sep=\" \")\n",
    "tran.columns = [\"Pocet transkriptru pro gen\", \"Cetnost\"]\n",
    "tran"
   ]
  },
  {
   "cell_type": "markdown",
   "metadata": {},
   "source": [
    "Zajímalo mne, které geny to jsou, které mají více než 10 transkriptů."
   ]
  },
  {
   "cell_type": "code",
   "execution_count": 22,
   "metadata": {
    "collapsed": false
   },
   "outputs": [
    {
     "data": {
      "text/html": [
       "<div>\n",
       "<table border=\"1\" class=\"dataframe\">\n",
       "  <thead>\n",
       "    <tr style=\"text-align: right;\">\n",
       "      <th></th>\n",
       "      <th>Gen</th>\n",
       "      <th>Pocet transkriptu</th>\n",
       "    </tr>\n",
       "  </thead>\n",
       "  <tbody>\n",
       "    <tr>\n",
       "      <th>8971</th>\n",
       "      <td>U1</td>\n",
       "      <td>26</td>\n",
       "    </tr>\n",
       "    <tr>\n",
       "      <th>1746</th>\n",
       "      <td>7SK</td>\n",
       "      <td>32</td>\n",
       "    </tr>\n",
       "    <tr>\n",
       "      <th>1769</th>\n",
       "      <td>U6atac</td>\n",
       "      <td>58</td>\n",
       "    </tr>\n",
       "    <tr>\n",
       "      <th>5716</th>\n",
       "      <td>5S_rRNA</td>\n",
       "      <td>142</td>\n",
       "    </tr>\n",
       "    <tr>\n",
       "      <th>8980</th>\n",
       "      <td>U6</td>\n",
       "      <td>395</td>\n",
       "    </tr>\n",
       "  </tbody>\n",
       "</table>\n",
       "</div>"
      ],
      "text/plain": [
       "          Gen  Pocet transkriptu\n",
       "8971       U1                 26\n",
       "1746      7SK                 32\n",
       "1769   U6atac                 58\n",
       "5716  5S_rRNA                142\n",
       "8980       U6                395"
      ]
     },
     "execution_count": 22,
     "metadata": {},
     "output_type": "execute_result"
    }
   ],
   "source": [
    "transkriptove.loc[transkriptove[\"Pocet transkriptu\"]  > 10].sort_values([\"Pocet transkriptu\"], ascending=True)"
   ]
  },
  {
   "cell_type": "markdown",
   "metadata": {},
   "source": [
    "## Rozdělení genů podle jejich typu\n",
    "- to znamená na protein-kodující, kodující různé RNA a pseudogeny.\n",
    "\n",
    "<br>\n",
    "<p>\n",
    "Já jsem to udělal pomocí <i>awk</i>. Vybral jsem z původního souboru řádky které měly ve třetím slopečku \"gene\". A u těchto řádků jsem vybral pouze devátý sloupec. Odstanil jsem středníky mezi jednotlivými slopci, abych neměl typ informace a informaci v jednom sloupci, ale rozdělil si to tak na dva sloupce. Potom jsem vzal data z nově vzniklého slopce 7, 8 a 9 a pokud jejich hodnota byla \"gene_biotype\", tak jsem do  promněné counter přičetl +1. Nakonci jsem do souboru vytisklnul druhy genů a jejich počet. Důvod proč jsem procházel sloupce 7, 8 a 9 byl, že data nebyla konzistentní a informace o typu genu se nacházela v jednom z těchto tří sloupců.\n",
    "</p>\n",
    "\n",
    "<p>\n",
    "Data jsem zde pak zobrazil do tabulky a pro větší přehlednost také do grafu.\n",
    "</p>"
   ]
  },
  {
   "cell_type": "code",
   "execution_count": 23,
   "metadata": {
    "collapsed": false,
    "scrolled": true
   },
   "outputs": [],
   "source": [
    "!awk -F \"\\t\" '$3 == \"gene\" { print $9 }' klokan.gtf | tr -d \";\\\"\" | awk -F \" \" '$9 == \"gene_biotype\" {gene_counter[$10] += 1} END {    for (gene_name in gene_counter){ print gene_name, gene_counter[gene_name]}}' > genes_by_feature.txt\n",
    "!awk -F \"\\t\" '$3 == \"gene\" { print $9 }' klokan.gtf | tr -d \";\\\"\" | awk -F \" \" '$7 == \"gene_biotype\" {gene_counter[$8] += 1} END {    for (gene_name in gene_counter){ print gene_name, gene_counter[gene_name]}}' >> genes_by_feature.txt\n",
    "!awk -F \"\\t\" '$3 == \"gene\" { print $9 }' klokan.gtf | tr -d \";\\\"\" | awk -F \" \" '$8 == \"gene_biotype\" {gene_counter[$9] += 1} END {    for (gene_name in gene_counter){ print gene_name, gene_counter[gene_name]}}' >> genes_by_feature.txt\n"
   ]
  },
  {
   "cell_type": "markdown",
   "metadata": {},
   "source": [
    "Tabulka, ze které jsem vlastně vybíral, po provedení prvního awk vypadala následovně. V závislosti na množství atributů u kterého daného řádku, jsem počítal typ genů v 8, 9 či 10 sloupci, jak jsem vysvětloval výše."
   ]
  },
  {
   "cell_type": "code",
   "execution_count": 1,
   "metadata": {
    "collapsed": false
   },
   "outputs": [
    {
     "name": "stdout",
     "output_type": "stream",
     "text": [
      "gene_id ENSMEUG00000010374 gene_version 1 gene_name DMD gene_source ensembl gene_biotype protein_coding\r\n",
      "gene_id ENSMEUG00000010436 gene_version 1 gene_source ensembl gene_biotype pseudogene\r\n",
      "gene_id ENSMEUG00000015434 gene_version 1 gene_name CSMD3 gene_source ensembl gene_biotype protein_coding\r\n",
      "gene_id ENSMEUG00000008627 gene_version 1 gene_name USH2A gene_source ensembl gene_biotype protein_coding\r\n",
      "gene_id ENSMEUG00000017169 gene_version 1 gene_name 5S_rRNA gene_source ensembl gene_biotype rRNA\r\n",
      "gene_id ENSMEUG00000005000 gene_version 1 gene_name LRP1B gene_source ensembl gene_biotype protein_coding\r\n",
      "gene_id ENSMEUG00000001674 gene_version 1 gene_name RYR2 gene_source ensembl gene_biotype protein_coding\r\n",
      "gene_id ENSMEUG00000016320 gene_version 1 gene_name RYR3 gene_source ensembl gene_biotype protein_coding\r\n",
      "gene_id ENSMEUG00000008795 gene_version 1 gene_name CSMD2 gene_source ensembl gene_biotype protein_coding\r\n",
      "gene_id ENSMEUG00000003558 gene_version 1 gene_name DOCK1 gene_source ensembl gene_biotype protein_coding\r\n",
      "tr: write error: Broken pipe\r\n",
      "tr: write error\r\n"
     ]
    }
   ],
   "source": [
    "!awk -F \"\\t\" '$3 == \"gene\" { print $9 }' klokan.gtf | tr -d \";\\\"\" | head "
   ]
  },
  {
   "cell_type": "code",
   "execution_count": 17,
   "metadata": {
    "collapsed": false
   },
   "outputs": [
    {
     "data": {
      "text/html": [
       "<div>\n",
       "<table border=\"1\" class=\"dataframe\">\n",
       "  <thead>\n",
       "    <tr style=\"text-align: right;\">\n",
       "      <th></th>\n",
       "      <th>Gen</th>\n",
       "      <th>Pocet genu</th>\n",
       "    </tr>\n",
       "  </thead>\n",
       "  <tbody>\n",
       "    <tr>\n",
       "      <th>0</th>\n",
       "      <td>misc_RNA</td>\n",
       "      <td>42</td>\n",
       "    </tr>\n",
       "    <tr>\n",
       "      <th>1</th>\n",
       "      <td>rRNA</td>\n",
       "      <td>144</td>\n",
       "    </tr>\n",
       "    <tr>\n",
       "      <th>2</th>\n",
       "      <td>snoRNA</td>\n",
       "      <td>254</td>\n",
       "    </tr>\n",
       "    <tr>\n",
       "      <th>3</th>\n",
       "      <td>protein_coding</td>\n",
       "      <td>15290</td>\n",
       "    </tr>\n",
       "    <tr>\n",
       "      <th>4</th>\n",
       "      <td>snRNA</td>\n",
       "      <td>507</td>\n",
       "    </tr>\n",
       "    <tr>\n",
       "      <th>5</th>\n",
       "      <td>pseudogene</td>\n",
       "      <td>1496</td>\n",
       "    </tr>\n",
       "    <tr>\n",
       "      <th>6</th>\n",
       "      <td>miRNA</td>\n",
       "      <td>525</td>\n",
       "    </tr>\n",
       "  </tbody>\n",
       "</table>\n",
       "</div>"
      ],
      "text/plain": [
       "              Gen  Pocet genu\n",
       "0        misc_RNA          42\n",
       "1            rRNA         144\n",
       "2          snoRNA         254\n",
       "3  protein_coding       15290\n",
       "4           snRNA         507\n",
       "5      pseudogene        1496\n",
       "6           miRNA         525"
      ]
     },
     "execution_count": 17,
     "metadata": {},
     "output_type": "execute_result"
    }
   ],
   "source": [
    "%matplotlib inline\n",
    "geny=pd.read_table('genes_by_feature.txt', header=None, )\n",
    "geny.columns = [\"Gen\", \"Pocet genu\" ]\n",
    "geny"
   ]
  },
  {
   "cell_type": "code",
   "execution_count": 18,
   "metadata": {
    "collapsed": false
   },
   "outputs": [
    {
     "data": {
      "text/plain": [
       "<matplotlib.text.Text at 0x7f06108a55c0>"
      ]
     },
     "execution_count": 18,
     "metadata": {},
     "output_type": "execute_result"
    },
    {
     "data": {
      "image/png": "[encoded data removed]",
      "text/plain": [
       "<matplotlib.figure.Figure at 0x7f06108a5f28>"
      ]
     },
     "metadata": {},
     "output_type": "display_data"
    }
   ],
   "source": [
    "import matplotlib.pyplot as plt\n",
    "\n",
    "my_plot = geny.plot(\"Gen\", \"Pocet genu\", kind=\"bar\" )\n",
    "pl.suptitle(\"Jednotlive typy genu\")"
   ]
  },
  {
   "cell_type": "markdown",
   "metadata": {
    "collapsed": true
   },
   "source": [
    "## Zastoupení genů dle růrného počtu exonů"
   ]
  },
  {
   "cell_type": "markdown",
   "metadata": {},
   "source": [
    "Pomoci awk jsem vytvořil soubor s jednotlivými protein kodujícími geny a četností kolik mají exonů."
   ]
  },
  {
   "cell_type": "code",
   "execution_count": 57,
   "metadata": {
    "collapsed": true
   },
   "outputs": [],
   "source": [
    "!awk -F \"\\t\" '$3 == \"exon\" { print $9 }' klokan.gtf | tr -d \";\\\"\" | awk -F \" \" '$16 == \"protein_coding\" {gene_counter[$12] += 1} END {    for (gene_name in gene_counter){ print gene_name, gene_counter[gene_name]}}' > number_of_exons_by_gene.txt"
   ]
  },
  {
   "cell_type": "code",
   "execution_count": 8,
   "metadata": {
    "collapsed": false
   },
   "outputs": [
    {
     "data": {
      "text/html": [
       "<div>\n",
       "<table border=\"1\" class=\"dataframe\">\n",
       "  <thead>\n",
       "    <tr style=\"text-align: right;\">\n",
       "      <th></th>\n",
       "      <th>Gen</th>\n",
       "      <th>Pocet exonu</th>\n",
       "    </tr>\n",
       "  </thead>\n",
       "  <tbody>\n",
       "    <tr>\n",
       "      <th>0</th>\n",
       "      <td>CAPN6</td>\n",
       "      <td>20</td>\n",
       "    </tr>\n",
       "    <tr>\n",
       "      <th>1</th>\n",
       "      <td>CAPN7</td>\n",
       "      <td>18</td>\n",
       "    </tr>\n",
       "    <tr>\n",
       "      <th>2</th>\n",
       "      <td>DACH1</td>\n",
       "      <td>19</td>\n",
       "    </tr>\n",
       "    <tr>\n",
       "      <th>3</th>\n",
       "      <td>LARS</td>\n",
       "      <td>38</td>\n",
       "    </tr>\n",
       "    <tr>\n",
       "      <th>4</th>\n",
       "      <td>CAPN8</td>\n",
       "      <td>23</td>\n",
       "    </tr>\n",
       "  </tbody>\n",
       "</table>\n",
       "</div>"
      ],
      "text/plain": [
       "     Gen  Pocet exonu\n",
       "0  CAPN6           20\n",
       "1  CAPN7           18\n",
       "2  DACH1           19\n",
       "3   LARS           38\n",
       "4  CAPN8           23"
      ]
     },
     "execution_count": 8,
     "metadata": {},
     "output_type": "execute_result"
    }
   ],
   "source": [
    "exony=pd.read_table('number_of_exons_by_gene.txt', header=None, sep=\" \")\n",
    "exony.columns = [\"Gen\", \"Pocet exonu\" ]\n",
    "exony.head()"
   ]
  },
  {
   "cell_type": "code",
   "execution_count": 22,
   "metadata": {
    "collapsed": false
   },
   "outputs": [
    {
     "data": {
      "text/plain": [
       "<matplotlib.text.Text at 0x7f061eb88588>"
      ]
     },
     "execution_count": 22,
     "metadata": {},
     "output_type": "execute_result"
    },
    {
     "data": {
      "image/png": "[encoded data removed]",
      "text/plain": [
       "<matplotlib.figure.Figure at 0x7f061eb84d68>"
      ]
     },
     "metadata": {},
     "output_type": "display_data"
    }
   ],
   "source": [
    "exony[\"Pocet genu\"].hist(bins=30)\n",
    "pl.suptitle(\"Distribuce počtu exonu\")"
   ]
  },
  {
   "cell_type": "markdown",
   "metadata": {},
   "source": [
    "## Počet genů na + a - řetězci\n",
    "- spočítel jsem počet genů na + a - řetězci pomocí příkazu awk\n",
    "- zároveň mě zajímalo, zda-li se bude lišit distribuce v počtu genů majících určitý počet exonů. Analýzu jsem udělal analogicky k analýze počtu genů s daným počtem exonů bez ohledu na orientaci řetězce."
   ]
  },
  {
   "cell_type": "code",
   "execution_count": 1,
   "metadata": {
    "collapsed": false
   },
   "outputs": [
    {
     "name": "stdout",
     "output_type": "stream",
     "text": [
      "9177\n",
      "9081\n"
     ]
    }
   ],
   "source": [
    "!awk -F \"\\t\" '$3 == \"gene\" { print $0 }' klokan.gtf   |  awk -F \"\\t\" '$7 == \"+\" { print $0 }'  | wc -l\n",
    "!awk -F \"\\t\" '$3 == \"gene\" { print $0 }' klokan.gtf   |  awk -F \"\\t\" '$7 == \"-\" { print $0 }'  | wc -l"
   ]
  },
  {
   "cell_type": "code",
   "execution_count": 2,
   "metadata": {
    "collapsed": false
   },
   "outputs": [],
   "source": [
    "!awk -F \"\\t\" '$3 == \"exon\" { print $0 }' klokan.gtf | awk -F \"\\t\" '$7 == \"+\" { print $9 }' | tr -d \";\\\"\" | awk -F \" \" '$16 == \"protein_coding\" {gene_counter[$12] += 1} END {    for (gene_name in gene_counter){ print gene_name, gene_counter[gene_name]}}' > exons_plus.txt\n",
    "!awk -F \"\\t\" '$3 == \"exon\" { print $0 }' klokan.gtf | awk -F \"\\t\" '$7 == \"-\" { print $9 }' | tr -d \";\\\"\" | awk -F \" \" '$16 == \"protein_coding\" {gene_counter[$12] += 1} END {    for (gene_name in gene_counter){ print gene_name, gene_counter[gene_name]}}' > exons_minus.txt"
   ]
  },
  {
   "cell_type": "code",
   "execution_count": 9,
   "metadata": {
    "collapsed": false
   },
   "outputs": [
    {
     "data": {
      "text/html": [
       "<div>\n",
       "<table border=\"1\" class=\"dataframe\">\n",
       "  <thead>\n",
       "    <tr style=\"text-align: right;\">\n",
       "      <th></th>\n",
       "      <th>Gen</th>\n",
       "      <th>Pocet exonu na + retezci</th>\n",
       "    </tr>\n",
       "  </thead>\n",
       "  <tbody>\n",
       "    <tr>\n",
       "      <th>0</th>\n",
       "      <td>CAPN7</td>\n",
       "      <td>18</td>\n",
       "    </tr>\n",
       "    <tr>\n",
       "      <th>1</th>\n",
       "      <td>DACH2</td>\n",
       "      <td>17</td>\n",
       "    </tr>\n",
       "    <tr>\n",
       "      <th>2</th>\n",
       "      <td>AVL9</td>\n",
       "      <td>15</td>\n",
       "    </tr>\n",
       "    <tr>\n",
       "      <th>3</th>\n",
       "      <td>CAPN9</td>\n",
       "      <td>21</td>\n",
       "    </tr>\n",
       "    <tr>\n",
       "      <th>4</th>\n",
       "      <td>LTBP1</td>\n",
       "      <td>41</td>\n",
       "    </tr>\n",
       "  </tbody>\n",
       "</table>\n",
       "</div>"
      ],
      "text/plain": [
       "     Gen  Pocet exonu na + retezci\n",
       "0  CAPN7                        18\n",
       "1  DACH2                        17\n",
       "2   AVL9                        15\n",
       "3  CAPN9                        21\n",
       "4  LTBP1                        41"
      ]
     },
     "execution_count": 9,
     "metadata": {},
     "output_type": "execute_result"
    }
   ],
   "source": [
    "exony_plus=pd.read_table('exons_plus.txt', header=None, sep=\" \")\n",
    "exony_plus.columns = [\"Gen\", \"Pocet exonu na + retezci\" ]\n",
    "exony_plus.head()"
   ]
  },
  {
   "cell_type": "code",
   "execution_count": 10,
   "metadata": {
    "collapsed": false
   },
   "outputs": [
    {
     "data": {
      "text/html": [
       "<div>\n",
       "<table border=\"1\" class=\"dataframe\">\n",
       "  <thead>\n",
       "    <tr style=\"text-align: right;\">\n",
       "      <th></th>\n",
       "      <th>Gen</th>\n",
       "      <th>Pocet exonu na - retezci</th>\n",
       "    </tr>\n",
       "  </thead>\n",
       "  <tbody>\n",
       "    <tr>\n",
       "      <th>0</th>\n",
       "      <td>CAPN6</td>\n",
       "      <td>20</td>\n",
       "    </tr>\n",
       "    <tr>\n",
       "      <th>1</th>\n",
       "      <td>DACH1</td>\n",
       "      <td>19</td>\n",
       "    </tr>\n",
       "    <tr>\n",
       "      <th>2</th>\n",
       "      <td>CAPN8</td>\n",
       "      <td>23</td>\n",
       "    </tr>\n",
       "    <tr>\n",
       "      <th>3</th>\n",
       "      <td>LARS</td>\n",
       "      <td>38</td>\n",
       "    </tr>\n",
       "    <tr>\n",
       "      <th>4</th>\n",
       "      <td>NEB</td>\n",
       "      <td>166</td>\n",
       "    </tr>\n",
       "  </tbody>\n",
       "</table>\n",
       "</div>"
      ],
      "text/plain": [
       "     Gen  Pocet exonu na - retezci\n",
       "0  CAPN6                        20\n",
       "1  DACH1                        19\n",
       "2  CAPN8                        23\n",
       "3   LARS                        38\n",
       "4    NEB                       166"
      ]
     },
     "execution_count": 10,
     "metadata": {},
     "output_type": "execute_result"
    }
   ],
   "source": [
    "exony_minus=pd.read_table('exons_minus.txt', header=None, sep=\" \")\n",
    "exony_minus.columns = [\"Gen\", \"Pocet exonu na - retezci\" ]\n",
    "exony_minus.head()"
   ]
  },
  {
   "cell_type": "code",
   "execution_count": 11,
   "metadata": {
    "collapsed": false
   },
   "outputs": [
    {
     "data": {
      "text/plain": [
       "<matplotlib.text.Text at 0x7eff2ba27d30>"
      ]
     },
     "execution_count": 11,
     "metadata": {},
     "output_type": "execute_result"
    },
    {
     "data": {
      "image/png": "[encoded data removed]",
      "text/plain": [
       "<matplotlib.figure.Figure at 0x7eff2ba2a0f0>"
      ]
     },
     "metadata": {},
     "output_type": "display_data"
    }
   ],
   "source": [
    "exony_plus[\"Pocet exonu na + retezci\"].hist(bins=30)\n",
    "pl.suptitle(\"Distribuce počtu exonu\")\n",
    "\n",
    "exony_minus[\"Pocet exonu na - retezci\"].hist(bins=30)\n",
    "pl.suptitle(\"Distribuce počtu exonu\")"
   ]
  },
  {
   "cell_type": "markdown",
   "metadata": {
    "collapsed": true
   },
   "source": [
    "Dále mne napadlo zjistit velikost genů a jednotlivých exonů a jejich distribuci."
   ]
  },
  {
   "cell_type": "code",
   "execution_count": 38,
   "metadata": {
    "collapsed": false
   },
   "outputs": [],
   "source": [
    "genes[\"Velikost_genu\"] = genes[\"Konec\"]-genes[\"Start\"]"
   ]
  },
  {
   "cell_type": "code",
   "execution_count": 34,
   "metadata": {
    "collapsed": false
   },
   "outputs": [
    {
     "data": {
      "text/plain": [
       "<matplotlib.text.Text at 0x7f1849dc9080>"
      ]
     },
     "execution_count": 34,
     "metadata": {},
     "output_type": "execute_result"
    },
    {
     "data": {
      "image/png": "[encoded data removed]",
      "text/plain": [
       "<matplotlib.figure.Figure at 0x7f184b067438>"
      ]
     },
     "metadata": {},
     "output_type": "display_data"
    }
   ],
   "source": [
    "genes[\"Velikost_genu\"].hist(bins=30)\n",
    "pl.suptitle(\"Distribuce velikosti genu\")"
   ]
  },
  {
   "cell_type": "code",
   "execution_count": 40,
   "metadata": {
    "collapsed": false
   },
   "outputs": [
    {
     "data": {
      "text/plain": [
       "<matplotlib.text.Text at 0x7f1848219a90>"
      ]
     },
     "execution_count": 40,
     "metadata": {},
     "output_type": "execute_result"
    },
    {
     "data": {
      "image/png": "[encoded data removed]",
      "text/plain": [
       "<matplotlib.figure.Figure at 0x7f18481fa898>"
      ]
     },
     "metadata": {},
     "output_type": "display_data"
    }
   ],
   "source": [
    "exons.columns = [\"Chromozom\", \"Zdroj\", \"Druh\", \"Start\", \"Konec\", \"score\", \"Retezec\", \"frame\", \"Informace\"]\n",
    "genes[\"Velikost_genu\"] = genes[\"Konec\"]-genes[\"Start\"]\n",
    "genes[\"Velikost_genu\"].hist(bins=30)\n",
    "pl.suptitle(\"Distribuce velikosti exonu\")"
   ]
  },
  {
   "cell_type": "markdown",
   "metadata": {},
   "source": [
    "![Klokan](https://www.zoochat.com/community/media/tammar-wallaby-macropus-eugenii-at-tierpark-gettorf-2007.8585/full?d=0)"
   ]
  },
  {
   "cell_type": "markdown",
   "metadata": {},
   "source": [
    "# <center>Děkuji za pozornost</center>"
   ]
  },
  {
   "cell_type": "code",
   "execution_count": null,
   "metadata": {
    "collapsed": true
   },
   "outputs": [],
   "source": []
  }
 ],
 "metadata": {
  "kernelspec": {
   "display_name": "Python 3",
   "language": "python",
   "name": "python3"
  },
  "language_info": {
   "codemirror_mode": {
    "name": "ipython",
    "version": 3
   },
   "file_extension": ".py",
   "mimetype": "text/x-python",
   "name": "python",
   "nbconvert_exporter": "python",
   "pygments_lexer": "ipython3",
   "version": "3.5.2"
  }
 },
 "nbformat": 4,
 "nbformat_minor": 2
}
